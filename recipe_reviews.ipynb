{
  "nbformat": 4,
  "nbformat_minor": 0,
  "metadata": {
    "colab": {
      "provenance": [],
      "authorship_tag": "ABX9TyMBkcAUVUX27uEHabBEA2c1",
      "include_colab_link": true
    },
    "kernelspec": {
      "name": "python3",
      "display_name": "Python 3"
    },
    "language_info": {
      "name": "python"
    }
  },
  "cells": [
    {
      "cell_type": "markdown",
      "metadata": {
        "id": "view-in-github",
        "colab_type": "text"
      },
      "source": [
        "<a href=\"https://colab.research.google.com/github/stong1108/nyt-recipe-mods/blob/main/recipe_reviews.ipynb\" target=\"_parent\"><img src=\"https://colab.research.google.com/assets/colab-badge.svg\" alt=\"Open In Colab\"/></a>"
      ]
    },
    {
      "cell_type": "code",
      "source": [
        "pip install openai beautifulsoup4"
      ],
      "metadata": {
        "id": "J5K4xa_0RXqC"
      },
      "execution_count": null,
      "outputs": []
    },
    {
      "cell_type": "code",
      "source": [
        "from bs4 import BeautifulSoup\n",
        "import requests"
      ],
      "metadata": {
        "id": "Wa3eDSXFORbC"
      },
      "execution_count": 7,
      "outputs": []
    },
    {
      "cell_type": "code",
      "source": [
        "from google.colab import userdata\n",
        "from openai import OpenAI\n",
        "client = OpenAI(api_key = userdata.get('openai_api_key'))"
      ],
      "metadata": {
        "id": "d-RNzaBgRkDv"
      },
      "execution_count": 19,
      "outputs": []
    },
    {
      "cell_type": "code",
      "source": [
        "def get_completion(prompt, model='gpt-3.5-turbo'):\n",
        "    messages = [{\"role\": \"system\", \"content\": \"You are a cooking enthusiast.\"},{\"role\": \"user\", \"content\": prompt}]\n",
        "    response = client.chat.completions.create(\n",
        "        model=model,\n",
        "        messages=messages,\n",
        "        temperature=0,\n",
        "    )\n",
        "    return response.choices[0].message.content\n"
      ],
      "metadata": {
        "id": "BGBEQ8L0Pe2O"
      },
      "execution_count": 51,
      "outputs": []
    },
    {
      "cell_type": "code",
      "source": [
        "def extract_content(recipe_url):\n",
        "  r = requests.get(recipe_url)\n",
        "  if r.status_code != 200:\n",
        "    raise ValueError(f'Bad status code: {r.status_code}')\n",
        "\n",
        "  soup = BeautifulSoup(r.content)\n",
        "  section = soup.find('section', {'role': 'tabpanel', 'aria-labelledby': 'helpful'})\n",
        "  n_children = len(list(section.children))\n",
        "  if n_children < 5:\n",
        "    raise ValueError('Not enough helpful comments posted')\n",
        "  most_helpful_comments = '\\n'.join([child.p.text for child in section.children])\n",
        "  recipe_name = soup.title.text.replace(' - NYT Cooking', '')\n",
        "\n",
        "  return recipe_name, most_helpful_comments"
      ],
      "metadata": {
        "id": "0hZHehUyRq6g"
      },
      "execution_count": 104,
      "outputs": []
    },
    {
      "cell_type": "code",
      "source": [
        "prompt = \"\"\"Provided below is a list of the most helpful comments on a recipe\n",
        "for {}. Summarize the top 5 recipe modifications in a bulleted list.\n",
        "Only output the bulleted list and nothing else.\n",
        "\n",
        "Most helpful comments:\n",
        "{}\n",
        "\"\"\""
      ],
      "metadata": {
        "id": "ib0x63kJRyfB"
      },
      "execution_count": 65,
      "outputs": []
    },
    {
      "cell_type": "code",
      "source": [
        "def recipe_suggestions(recipe_url, prompt=prompt):\n",
        "  try:\n",
        "    content = extract_content(recipe_url)\n",
        "    suggestions = get_completion(prompt.format(recipe_name, most_helpful_comments))\n",
        "    print(f'Suggested improvements for {recipe_name}')\n",
        "    print(suggestions)\n",
        "  except ValueError as e:\n",
        "    print(f'Unable to generate due to error- {e}')"
      ],
      "metadata": {
        "id": "w1CPsJg4X_nQ"
      },
      "execution_count": 107,
      "outputs": []
    },
    {
      "cell_type": "code",
      "source": [
        "recipe_url = 'https://cooking.nytimes.com/recipes/1025054-skillet-ginger-chicken-with-apricots'\n",
        "\n",
        "recipe_suggestions(recipe_url)"
      ],
      "metadata": {
        "colab": {
          "base_uri": "https://localhost:8080/"
        },
        "id": "hx9zGGhaoB_c",
        "outputId": "17c14c61-4b1d-4ba5-a108-4974aa3b23e2"
      },
      "execution_count": 108,
      "outputs": [
        {
          "output_type": "stream",
          "name": "stdout",
          "text": [
            "Unable to generate due to error- Not enough helpful comments posted\n"
          ]
        }
      ]
    },
    {
      "cell_type": "code",
      "source": [
        "recipe_url = 'https://cooking.nytimes.com/recipes/1025042-microwave-salmon'\n",
        "\n",
        "recipe_suggestions(recipe_url)"
      ],
      "metadata": {
        "colab": {
          "base_uri": "https://localhost:8080/"
        },
        "id": "BQA7-9VuUGD4",
        "outputId": "36d6495f-d296-44b7-8707-79be571784bd"
      },
      "execution_count": 94,
      "outputs": [
        {
          "output_type": "stream",
          "name": "stdout",
          "text": [
            "Suggested improvements for Microwave Salmon Recipe\n",
            "- Use Italian dressing instead of water for added flavor\n",
            "- Add garlic powder, lemon juice, bay leaf, and thyme for enhanced taste\n",
            "- Use lime juice to reduce fish odor in the microwave\n",
            "- Brush the bottom of the dish with olive oil and add white vermouth and fresh herbs for extra flavor\n",
            "- Use an insta-read thermometer to prevent overcooking\n"
          ]
        }
      ]
    },
    {
      "cell_type": "code",
      "source": [],
      "metadata": {
        "id": "xvJWRVqRZ6_S"
      },
      "execution_count": null,
      "outputs": []
    }
  ]
}