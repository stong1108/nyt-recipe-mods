{
  "nbformat": 4,
  "nbformat_minor": 0,
  "metadata": {
    "colab": {
      "provenance": [],
      "authorship_tag": "ABX9TyMPkZuCIRo8wdDA8i9HGiNh",
      "include_colab_link": true
    },
    "kernelspec": {
      "name": "python3",
      "display_name": "Python 3"
    },
    "language_info": {
      "name": "python"
    }
  },
  "cells": [
    {
      "cell_type": "markdown",
      "metadata": {
        "id": "view-in-github",
        "colab_type": "text"
      },
      "source": [
        "<a href=\"https://colab.research.google.com/github/stong1108/nyt-recipe-mods/blob/main/recipe_reviews.ipynb\" target=\"_parent\"><img src=\"https://colab.research.google.com/assets/colab-badge.svg\" alt=\"Open In Colab\"/></a>"
      ]
    },
    {
      "cell_type": "code",
      "source": [
        "pip install openai beautifulsoup4"
      ],
      "metadata": {
        "colab": {
          "base_uri": "https://localhost:8080/"
        },
        "id": "J5K4xa_0RXqC",
        "outputId": "a6f8ace8-0c3f-442b-b5fd-5dd90e2911fd"
      },
      "execution_count": 1,
      "outputs": [
        {
          "output_type": "stream",
          "name": "stdout",
          "text": [
            "Requirement already satisfied: openai in /usr/local/lib/python3.10/dist-packages (1.12.0)\n",
            "Requirement already satisfied: beautifulsoup4 in /usr/local/lib/python3.10/dist-packages (4.12.3)\n",
            "Requirement already satisfied: anyio<5,>=3.5.0 in /usr/local/lib/python3.10/dist-packages (from openai) (3.7.1)\n",
            "Requirement already satisfied: distro<2,>=1.7.0 in /usr/lib/python3/dist-packages (from openai) (1.7.0)\n",
            "Requirement already satisfied: httpx<1,>=0.23.0 in /usr/local/lib/python3.10/dist-packages (from openai) (0.26.0)\n",
            "Requirement already satisfied: pydantic<3,>=1.9.0 in /usr/local/lib/python3.10/dist-packages (from openai) (2.6.1)\n",
            "Requirement already satisfied: sniffio in /usr/local/lib/python3.10/dist-packages (from openai) (1.3.0)\n",
            "Requirement already satisfied: tqdm>4 in /usr/local/lib/python3.10/dist-packages (from openai) (4.66.2)\n",
            "Requirement already satisfied: typing-extensions<5,>=4.7 in /usr/local/lib/python3.10/dist-packages (from openai) (4.9.0)\n",
            "Requirement already satisfied: soupsieve>1.2 in /usr/local/lib/python3.10/dist-packages (from beautifulsoup4) (2.5)\n",
            "Requirement already satisfied: idna>=2.8 in /usr/local/lib/python3.10/dist-packages (from anyio<5,>=3.5.0->openai) (3.6)\n",
            "Requirement already satisfied: exceptiongroup in /usr/local/lib/python3.10/dist-packages (from anyio<5,>=3.5.0->openai) (1.2.0)\n",
            "Requirement already satisfied: certifi in /usr/local/lib/python3.10/dist-packages (from httpx<1,>=0.23.0->openai) (2024.2.2)\n",
            "Requirement already satisfied: httpcore==1.* in /usr/local/lib/python3.10/dist-packages (from httpx<1,>=0.23.0->openai) (1.0.3)\n",
            "Requirement already satisfied: h11<0.15,>=0.13 in /usr/local/lib/python3.10/dist-packages (from httpcore==1.*->httpx<1,>=0.23.0->openai) (0.14.0)\n",
            "Requirement already satisfied: annotated-types>=0.4.0 in /usr/local/lib/python3.10/dist-packages (from pydantic<3,>=1.9.0->openai) (0.6.0)\n",
            "Requirement already satisfied: pydantic-core==2.16.2 in /usr/local/lib/python3.10/dist-packages (from pydantic<3,>=1.9.0->openai) (2.16.2)\n"
          ]
        }
      ]
    },
    {
      "cell_type": "code",
      "source": [
        "from bs4 import BeautifulSoup\n",
        "import requests"
      ],
      "metadata": {
        "id": "Wa3eDSXFORbC"
      },
      "execution_count": 2,
      "outputs": []
    },
    {
      "cell_type": "code",
      "source": [
        "from google.colab import userdata\n",
        "from openai import OpenAI\n",
        "client = OpenAI(api_key = userdata.get('openai_api_key'))"
      ],
      "metadata": {
        "id": "d-RNzaBgRkDv"
      },
      "execution_count": 3,
      "outputs": []
    },
    {
      "cell_type": "code",
      "source": [
        "def get_completion(prompt, model='gpt-3.5-turbo'):\n",
        "    messages = [{\"role\": \"system\", \"content\": \"You are a cooking enthusiast.\"},{\"role\": \"user\", \"content\": prompt}]\n",
        "    response = client.chat.completions.create(\n",
        "        model=model,\n",
        "        messages=messages,\n",
        "        temperature=0,\n",
        "    )\n",
        "    return response.choices[0].message.content\n"
      ],
      "metadata": {
        "id": "BGBEQ8L0Pe2O"
      },
      "execution_count": 4,
      "outputs": []
    },
    {
      "cell_type": "code",
      "source": [
        "def extract_content(recipe_url):\n",
        "  r = requests.get(recipe_url)\n",
        "  if r.status_code != 200:\n",
        "    raise ValueError(f'Bad status code: {r.status_code}')\n",
        "\n",
        "  soup = BeautifulSoup(r.content)\n",
        "  section = soup.find('section', {'role': 'tabpanel', 'aria-labelledby': 'helpful'})\n",
        "  n_children = len(list(section.children))\n",
        "  if n_children < 5:\n",
        "    raise ValueError('Not enough helpful comments posted')\n",
        "  most_helpful_comments = '\\n'.join([child.p.text for child in section.children])\n",
        "  recipe_name = soup.title.text.replace(' - NYT Cooking', '')\n",
        "\n",
        "  return recipe_name, most_helpful_comments"
      ],
      "metadata": {
        "id": "0hZHehUyRq6g"
      },
      "execution_count": 5,
      "outputs": []
    },
    {
      "cell_type": "code",
      "source": [
        "prompt = \"\"\"Provided below is a list of the most helpful comments on a recipe\n",
        "for {}. Summarize the top 5 recipe modifications in a bulleted list.\n",
        "Only output the bulleted list and nothing else.\n",
        "\n",
        "Most helpful comments:\n",
        "{}\n",
        "\"\"\""
      ],
      "metadata": {
        "id": "ib0x63kJRyfB"
      },
      "execution_count": 6,
      "outputs": []
    },
    {
      "cell_type": "code",
      "source": [
        "def recipe_suggestions(recipe_url, prompt=prompt):\n",
        "  try:\n",
        "    recipe_name, most_helpful_comments = extract_content(recipe_url)\n",
        "    suggestions = get_completion(prompt.format(recipe_name, most_helpful_comments))\n",
        "    print(f'Suggested improvements for {recipe_name}')\n",
        "    print(suggestions)\n",
        "  except ValueError as e:\n",
        "    print(f'Unable to generate due to error- {e}')"
      ],
      "metadata": {
        "id": "w1CPsJg4X_nQ"
      },
      "execution_count": 11,
      "outputs": []
    },
    {
      "cell_type": "code",
      "source": [
        "recipe_url = 'https://cooking.nytimes.com/recipes/1025054-skillet-ginger-chicken-with-apricots'\n",
        "\n",
        "recipe_suggestions(recipe_url)"
      ],
      "metadata": {
        "colab": {
          "base_uri": "https://localhost:8080/"
        },
        "id": "hx9zGGhaoB_c",
        "outputId": "d41c2e95-5334-4b1a-fee0-2262b406f990"
      },
      "execution_count": 12,
      "outputs": [
        {
          "output_type": "stream",
          "name": "stdout",
          "text": [
            "Unable to generate due to error- Not enough helpful comments posted\n"
          ]
        }
      ]
    },
    {
      "cell_type": "code",
      "source": [
        "recipe_url = 'https://cooking.nytimes.com/recipes/1025042-microwave-salmon'\n",
        "\n",
        "recipe_suggestions(recipe_url)"
      ],
      "metadata": {
        "colab": {
          "base_uri": "https://localhost:8080/"
        },
        "id": "BQA7-9VuUGD4",
        "outputId": "15eb860d-3f66-440d-dd73-2f714c52fd66"
      },
      "execution_count": 13,
      "outputs": [
        {
          "output_type": "stream",
          "name": "stdout",
          "text": [
            "Suggested improvements for Microwave Salmon Recipe\n",
            "- Use Italian dressing instead of water for added flavor\n",
            "- Add garlic powder, lemon juice, bay leaf, and thyme for enhanced taste\n",
            "- Squeeze lime on the fillet before cooking to reduce fish odor\n",
            "- Use an insta-read thermometer to prevent overcooking\n",
            "- Brush the bottom of the dish with olive oil and add white vermouth for extra flavor\n"
          ]
        }
      ]
    },
    {
      "cell_type": "code",
      "source": [],
      "metadata": {
        "id": "xvJWRVqRZ6_S"
      },
      "execution_count": null,
      "outputs": []
    }
  ]
}